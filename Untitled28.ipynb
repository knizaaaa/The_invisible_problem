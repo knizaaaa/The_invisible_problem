{
 "cells": [
  {
   "cell_type": "code",
   "execution_count": null,
   "id": "e17d5ec1-6af5-47ea-a2a0-6463996188ae",
   "metadata": {},
   "outputs": [],
   "source": [
    "import tkinter as tk\n",
    "import random\n",
    "import webbrowser\n",
    "\n",
    "class RandomVideoApp:\n",
    "    def __init__(self, root):\n",
    "        self.root = root\n",
    "        self.root.title(\"Random Video Buttons\")\n",
    "        self.root.geometry(\"800x600\")\n",
    "        self.root.config(bg=\"#f0f0f0\")  # Set a background color that you can hide buttons over\n",
    "        self.root.overrideredirect(True)  # Remove window borders\n",
    "        self.root.attributes(\"-topmost\", True)  # Keep window on top\n",
    "        self.root.attributes(\"-transparentcolor\", \"#f0f0f0\")  # Make background transparent for widgets with this color\n",
    "        self.root.config(cursor=\"none\")  # Hide cursor\n",
    "\n",
    "        # Video URLs\n",
    "        self.video_urls_1 = [\"https://youtu.be/6fJrxtgICTk\"]\n",
    "        self.video_urls_2 = [\"https://youtu.be/oMx1mzoEuD0?si=kK8BeamTi3R226RF\"]\n",
    "        self.video_urls_3 = [\"https://youtu.be/01e5SAvJfpg?si=fHNSHmfyzcorvO8I\", \"https://youtu.be/ANQtEsCS2G8?si=oGlKtAUKgGXTKV2H\"]\n",
    "\n",
    "        # Create buttons (but don't place them yet)\n",
    "        self.button1 = self.create_button(\"Video 1\", self.video_urls_1)\n",
    "        self.button2 = self.create_button(\"Video 2\", self.video_urls_2)\n",
    "        self.button3 = self.create_button(\"Video 3\", self.video_urls_3)\n",
    "\n",
    "        # Use `after` to delay the placement until the window is fully initialized\n",
    "        self.root.after(100, self.position_buttons)  # Delay placement of buttons\n",
    "\n",
    "    def create_button(self, text, video_urls):\n",
    "        button = tk.Button(self.root, text=text, command=lambda: self.open_random_video(video_urls))\n",
    "        button.config(width=20, height=10, bg=\"#f0f0f0\", activebackground=\"#f0f0f0\", relief=\"flat\")\n",
    "        return button\n",
    "\n",
    "    def open_random_video(self, video_urls):\n",
    "        video_url = random.choice(video_urls)\n",
    "        webbrowser.open(video_url, new=2)  # Open in the default web browser\n",
    "\n",
    "        # Reposition button to a random location\n",
    "        self.position_buttons()\n",
    "\n",
    "    def position_buttons(self):\n",
    "        for button in [self.button1, self.button2, self.button3]:\n",
    "            button.place(x=random.randint(0, self.root.winfo_width() - 200),\n",
    "                         y=random.randint(0, self.root.winfo_height() - 150))\n",
    "\n",
    "if __name__ == \"__main__\":\n",
    "    root = tk.Tk()\n",
    "    app = RandomVideoApp(root)\n",
    "    root.mainloop()\n"
   ]
  },
  {
   "cell_type": "code",
   "execution_count": null,
   "id": "9b5b4522-dd21-4ba9-9f44-97381140bc38",
   "metadata": {},
   "outputs": [],
   "source": []
  }
 ],
 "metadata": {
  "kernelspec": {
   "display_name": "Python 3 (ipykernel)",
   "language": "python",
   "name": "python3"
  },
  "language_info": {
   "codemirror_mode": {
    "name": "ipython",
    "version": 3
   },
   "file_extension": ".py",
   "mimetype": "text/x-python",
   "name": "python",
   "nbconvert_exporter": "python",
   "pygments_lexer": "ipython3",
   "version": "3.12.7"
  }
 },
 "nbformat": 4,
 "nbformat_minor": 5
}
